{
 "cells": [
  {
   "cell_type": "markdown",
   "id": "abbfa403",
   "metadata": {},
   "source": [
    "# Getting Started with RNA Velocity\n",
    "\n",
    "\n",
    "RNA velocity is based on bridging measurements to a underlying mechanism, mRNA splicing, with two modes indicating the current and future state [[RNA velocity—current challenges and future perspectives](https://www.embopress.org/doi/full/10.15252/msb.202110282)].  It is a method used to predict the future gene expression of a cell based on the measurement of both spliced and unspliced transcripts of mRNA [[2](https://towardsdatascience.com/rna-velocity-the-cells-internal-compass-cf8d75bb2f89)].\n",
    "\n",
    "RNA velocity could be used to infer the direction of gene expression changes in single-cell RNA sequencing (scRNA-seq) data. It provides insights into the future state of individual cells by using the abundance of unspliced to spliced RNA transcripts. This ratio can indicate the transcriptional dynamics and potential fate of a cell, such as whether it is transitioning from one cell type to another or undergoing differentiation [[RNA velocity of single cells](https://www.ncbi.nlm.nih.gov/pmc/articles/PMC6130801/)].\n",
    "\n",
    "+ **velocyto**\n",
    "\n",
    "Velocyto is a package for the analysis of expression dynamics in single cell RNA seq data. In particular, it enables estimations of RNA velocities of single cells by distinguishing unspliced and spliced mRNAs in standard single-cell RNA sequencing protocols. It is the first paper proposed the concept of RNA velocity. velocyto predicted RNA velocity by solving the proposed differential equations for each gene [[RNA velocity of single cells](https://www.ncbi.nlm.nih.gov/pmc/articles/PMC6130801/)]. \n",
    "\n",
    "+ **scVelo**\n",
    "\n",
    "scVelo is a method that solves the full transcriptional dynamics of splicing kinetics using a likelihood-based dynamical model. This generalizes RNA velocity to systems with transient cell states, which are common in development and in response to perturbations. scVelo was applied to disentangling subpopulation kinetics in neurogenesis and pancreatic endocrinogenesis. scVelo demonstrate the capabilities of the dynamical model on various cell lineages in hippocampal dentate gyrus neurogenesis and pancreatic endocrinogenesis [[Generalizing RNA velocity to transient cell states through dynamical modeling](https://www.nature.com/articles/s41587-020-0591-3)].\n",
    "\n",
    "Here,I will go through the basics of scVelo. The following tutorials go straight into analysis of RNA velocity, latent time, driver identification and many more.\n",
    "\n",
    "First of all, the input data for scVelo are two count matrices of pre-mature (unspliced) and mature (spliced) abundances, which were obtained from standard sequencing protocols, using the velocyto."
   ]
  },
  {
   "cell_type": "code",
   "execution_count": 4,
   "metadata": {},
   "outputs": [
    {
     "name": "stdout",
     "output_type": "stream",
     "text": [
      "3.11.5\n"
     ]
    }
   ],
   "source": [
    "from platform import python_version\n",
    "\n",
    "print(python_version())"
   ]
  },
  {
   "cell_type": "code",
   "execution_count": null,
   "id": "d4e5aa3e",
   "metadata": {},
   "outputs": [],
   "source": [
    "#!pip install numpy==1.23.2 pandas==1.5.3 matplotlib==3.7.3 scanpy==1.9.6 igraph==0.9.8 scvelo==0.2.5 loompy==3.0.6 anndata==0.8.0"
   ]
  },
  {
   "cell_type": "code",
   "execution_count": null,
   "id": "747d5bac",
   "metadata": {},
   "outputs": [],
   "source": [
    "#!pip install tqdm \n",
    "#!pip install ipywidgets\n",
    "#!pip install pandas==1.1.5 \n",
    "#!pip install numpy==1.21.1"
   ]
  },
  {
   "cell_type": "code",
   "execution_count": null,
   "id": "f38276c1",
   "metadata": {},
   "outputs": [],
   "source": [
    "import numpy as np\n",
    "import pandas as pd\n",
    "import matplotlib.pyplot as pl\n",
    "import scanpy as sc\n",
    "import igraph\n",
    "import scvelo as scv\n",
    "import loompy as lmp\n",
    "import anndata\n",
    "\n",
    "import warnings\n",
    "warnings.filterwarnings('ignore')"
   ]
  },
  {
   "cell_type": "code",
   "execution_count": null,
   "id": "15191704",
   "metadata": {},
   "outputs": [],
   "source": [
    "# Set parameters for plots, including size, color, etc.\n",
    "scv.settings.verbosity = 3  # show errors(0), warnings(1), info(2), hints(3)\n",
    "scv.settings.presenter_view = True  # set max width size for presenter view\n",
    "scv.set_figure_params('scvelo')  # for beautified visualization"
   ]
  },
  {
   "cell_type": "code",
   "execution_count": null,
   "id": "ce061cc8",
   "metadata": {},
   "outputs": [],
   "source": [
    "adata = scv.read('/home/aruna/Desktop/Analysis/Project1/Data/Project1_merged.h5ad', cache=True)\n",
    "adata"
   ]
  },
  {
   "cell_type": "code",
   "execution_count": null,
   "id": "1d29a198",
   "metadata": {},
   "outputs": [],
   "source": [
    "adata.obs"
   ]
  },
  {
   "cell_type": "markdown",
   "id": "447291f1",
   "metadata": {},
   "source": [
    "+ Metadata info:\n",
    "    The single-cell data consists of 8 different samples-A0 A6 B0 B6 C0 C6 DO D6:\n",
    "    \n",
    "    A- A549 WT Cells with no IFNb pretreatment.\n",
    "    \n",
    "    B- A549 WT Cells, pretreated with 10U of IFNb for 18 hours. \n",
    "    \n",
    "    C- A549 IRF3 K.O Cells with no IFNb pretreatment.\n",
    "\n",
    "    D- A549 IRF3 K.O Cells, pretreated with 10U of IFNb for 18 hours.\n",
    "\n",
    "    0- a sample that was not stimulated with vRNA.\n",
    "\n",
    "    6- a sample that was stimulated with vRNA for 6 hours."
   ]
  },
  {
   "cell_type": "code",
   "execution_count": null,
   "id": "9362c333",
   "metadata": {},
   "outputs": [],
   "source": [
    "#adata.obs['condition'] = 'WT'"
   ]
  },
  {
   "cell_type": "code",
   "execution_count": null,
   "id": "c41cd648",
   "metadata": {},
   "outputs": [],
   "source": [
    "#Trait = adata.obs.batch=='D6'\n",
    "#adata.obs.loc[Trait, 'condition'] = 'IRF3&IFNb&vRNA'\n",
    "#adata.obs['condition']"
   ]
  },
  {
   "cell_type": "code",
   "execution_count": null,
   "id": "5f62a354",
   "metadata": {},
   "outputs": [],
   "source": [
    "#ldata = scv.read('/home/aruna/Desktop/Analysis/Project1/Data/Project1_loomp.loom', cache=True)\n",
    "#ldata"
   ]
  },
  {
   "cell_type": "code",
   "execution_count": null,
   "id": "4d1d8632",
   "metadata": {},
   "outputs": [],
   "source": [
    "scv.utils.clean_obs_names(adata)\n",
    "scv.utils.clean_obs_names(ldata)\n",
    "adata = scv.utils.merge(adata, ldata)"
   ]
  },
  {
   "cell_type": "code",
   "execution_count": null,
   "id": "7b505841",
   "metadata": {},
   "outputs": [],
   "source": [
    "adata.obs"
   ]
  },
  {
   "cell_type": "code",
   "execution_count": null,
   "id": "15f02ad0",
   "metadata": {},
   "outputs": [],
   "source": [
    "adata.obs.info()"
   ]
  },
  {
   "cell_type": "code",
   "execution_count": null,
   "id": "74995644",
   "metadata": {},
   "outputs": [],
   "source": [
    "adata.layers"
   ]
  },
  {
   "cell_type": "code",
   "execution_count": null,
   "id": "2336b770",
   "metadata": {},
   "outputs": [],
   "source": [
    "scv.pl.proportions(adata, groupby=\"cell_type\")"
   ]
  },
  {
   "cell_type": "code",
   "execution_count": null,
   "id": "538d33dc",
   "metadata": {},
   "outputs": [],
   "source": [
    "#adata.obs['condition']=adata.obs['condition'].astype('category')"
   ]
  },
  {
   "cell_type": "markdown",
   "id": "ce308a7b",
   "metadata": {},
   "source": [
    "Here, the proportions of spliced/unspliced counts are displayed. Depending on the protocol used (Drop-Seq, Smart-Seq, inDrop and 10x Genomics Chromium protocols), we typically have between 10%-25% of unspliced molecules containing intronic sequences. We also advice you to examine the variations on cluster level to verify consistency in splicing efficiency. Here, we find variations, with slightly **lower** unspliced proportions at **Ciliated & Merkels cells**, then ***higher proportion*** at ***Mesangial & Keratinocytes cells***."
   ]
  },
  {
   "cell_type": "code",
   "execution_count": null,
   "id": "9cfa8194",
   "metadata": {},
   "outputs": [],
   "source": [
    "scv.pl.proportions(adata, groupby=\"condition\")"
   ]
  },
  {
   "cell_type": "code",
   "execution_count": null,
   "id": "b21404a6",
   "metadata": {},
   "outputs": [],
   "source": [
    "sc.pl.embedding(adata, basis=\"umap\", color=[\"condition\", \"batch\"], ncols=1)"
   ]
  },
  {
   "cell_type": "markdown",
   "id": "411b3984",
   "metadata": {},
   "source": [
    "## Estimate RNA velocity\n",
    "\n",
    "RNA velocity estimation can currently be tackled with three existing approaches:\n",
    "\n",
    "• steady-state / deterministic model (using steady-state residuals)\n",
    "\n",
    "• stochastic model (using second-order moments),\n",
    "\n",
    "• dynamical model (using a likelihood-based framework).\n",
    "\n",
    " + **The steady-state / deterministic model:**, as being used in velocyto, estimates velocities as follows: Under the assumption that transcriptional phases (induction and repression) last sufficiently long to reach a steady-state equilibrium (active and inactive),**`velocities are quantified as the deviation of the observed ratio from its steady-state ratio`**. The equilibrium mRNA levels are approximated with a linear regression on the presumed steady states in the lower and upper quantiles. This simplification makes two fundamental assumptions: a common splicing rate across genes and steady-state mRNA levels to be reflected in the data. It can lead to errors in velocity estimates and cellular states as the assumptions are often violated, in particular when a population comprises multiple heterogeneous subpopulation dynamics.\n",
    "\n",
    "\n",
    " + **The stochastic model:** aims to better capture the steady states. By treating transcription, splicing and degradation as probabilistic events, the resulting Markov process is approximated by moment equations. By including secondorder moments, **`it exploits not only the balance of unspliced to spliced mRNA levels but also their covariation`**. It has been demonstrated on the endocrine pancreas that stochasticity adds valuable information, overall yielding higher consistency than the deterministic model, while remaining as efficient in computation time.\n",
    "\n",
    "\n",
    " + **The dynamical model:** (most powerful while computationally most expensive) solves the full dynamics of splicing kinetics for each gene. **`It thereby adapts RNA velocity to widely varying specifications such as non-stationary populations, as does not rely on the restrictions of a common splicing rate or steady states to be sampled`**.\n",
    " \n",
    "     The splicing dynamics \n",
    "     \n",
    "     `𝑑𝑢(𝑡)/𝑑𝑡 = 𝛼𝑘(𝑡) − 𝛽𝑢(𝑡), (4.1)` \n",
    "     \n",
    "     `𝑑𝑠(𝑡)/𝑑𝑡 = 𝛽𝑢(𝑡) − 𝛾𝑠(4.2) (𝑡)`,\n",
    "     \n",
    "     is solved in a likelihood-based expectation-maximization framework, **`by iteratively estimating the parameters of reaction rates and latent cell-specific variables`**, i.e. transcriptional state k and cell-internal latent time t.It thereby aims to learn the unspliced/spliced phase trajectory. Four transcriptional states are modeled to account for all possible configurations of gene activity: two dynamic transient states (induction and repression) and two steady states (active and inactive) potentially reached after each dynamic transition."
   ]
  },
  {
   "cell_type": "code",
   "execution_count": null,
   "id": "9422799d",
   "metadata": {},
   "outputs": [],
   "source": [
    "scv.pp.filter_genes(adata, min_shared_counts=20)\n",
    "scv.pp.normalize_per_cell(adata)\n",
    "scv.pp.filter_genes_dispersion(adata, n_top_genes=2000)\n",
    "scv.pp.log1p(adata)"
   ]
  },
  {
   "cell_type": "code",
   "execution_count": null,
   "id": "e08e016b",
   "metadata": {},
   "outputs": [],
   "source": [
    "scv.pp.filter_and_normalize(adata, min_shared_counts=20, n_top_genes=2000)\n",
    "scv.pp.moments(adata, n_pcs=30, n_neighbors=30)"
   ]
  },
  {
   "cell_type": "code",
   "execution_count": null,
   "id": "632c9a24",
   "metadata": {},
   "outputs": [],
   "source": [
    "scv.tl.recover_dynamics(adata, n_jobs=4)"
   ]
  },
  {
   "cell_type": "code",
   "execution_count": null,
   "id": "a2990839",
   "metadata": {},
   "outputs": [],
   "source": [
    "scv.tl.velocity(adata, mode='dynamical', n_jobs=4)\n",
    "scv.tl.velocity_graph(adata)"
   ]
  },
  {
   "cell_type": "markdown",
   "metadata": {},
   "source": [
    "Running the dynamical model can take a while. Hence, you may want to store the results for re-use."
   ]
  },
  {
   "cell_type": "code",
   "execution_count": null,
   "id": "e9262e49",
   "metadata": {},
   "outputs": [],
   "source": [
    "adata.write('/home/aruna/Desktop/Analysis/Project1/Data/Project1&DynVelo.h5ad', compression='gzip')"
   ]
  },
  {
   "cell_type": "code",
   "execution_count": null,
   "id": "a4ff9d78",
   "metadata": {},
   "outputs": [],
   "source": [
    "#adata = scv.read('/home/aruna/Desktop/Analysis/Project1/Data/Project1&DynVelo.h5ad', cache=True)"
   ]
  },
  {
   "cell_type": "code",
   "execution_count": null,
   "id": "8e377f2f",
   "metadata": {},
   "outputs": [],
   "source": [
    "adata"
   ]
  },
  {
   "cell_type": "code",
   "execution_count": null,
   "id": "1214e965",
   "metadata": {},
   "outputs": [],
   "source": [
    "print(adata.var['velocity_genes'].sum(), adata.n_vars)\n",
    "top_genes = adata.var_names[adata.var.fit_likelihood.argsort()[::-1]]\n",
    "scv.pl.scatter(adata, basis=top_genes[:10], ncols=4, color='condition', wspace=.5, hspace=.75)"
   ]
  },
  {
   "cell_type": "markdown",
   "id": "77f23132",
   "metadata": {},
   "source": [
    "There are 465 genes being used and 1102 cells."
   ]
  },
  {
   "cell_type": "markdown",
   "id": "0bdb79e8",
   "metadata": {},
   "source": [
    "## Project the velocities"
   ]
  },
  {
   "cell_type": "code",
   "execution_count": null,
   "id": "50e4f2e2",
   "metadata": {},
   "outputs": [],
   "source": [
    "scv.pl.velocity_embedding_stream(adata, basis='umap', color='condition', \n",
    "                                 legend_loc='right margin')"
   ]
  },
  {
   "cell_type": "code",
   "execution_count": null,
   "id": "d4f390f6",
   "metadata": {},
   "outputs": [],
   "source": [
    "scv.pl.velocity_embedding_grid(adata, basis='umap', color='condition', \n",
    "                          legend_loc='right margin')"
   ]
  },
  {
   "cell_type": "markdown",
   "id": "d24b73c2",
   "metadata": {},
   "source": [
    "## Interprete the velocities"
   ]
  },
  {
   "cell_type": "markdown",
   "id": "c7c12714",
   "metadata": {},
   "source": [
    "See the gif <a href=\"https://user-images.githubusercontent.com/31883718/80227452-eb822480-864d-11ea-9399-56886c5e2785.gif\">here</a> to get an idea of how to interpret a spliced vs. unspliced phase portrait. Gene activity is orchestrated by transcriptional regulation. Transcriptional induction for a particular gene results in an **increase of (newly transcribed) precursor unspliced mRNAs** while, conversely, repression or absence of transcription results in a **decrease of unspliced mRNAs**. Spliced mRNAs is produced from unspliced mRNA and follows the same trend with a time lag. Time is a hidden/latent variable. Thus, the dynamics needs to be inferred from what is actually measured: spliced and unspliced mRNAs as displayed in the phase portrait."
   ]
  },
  {
   "cell_type": "code",
   "execution_count": null,
   "id": "7e5f9e55",
   "metadata": {},
   "outputs": [],
   "source": [
    "adata"
   ]
  },
  {
   "cell_type": "code",
   "execution_count": null,
   "id": "9fa4c9f6",
   "metadata": {},
   "outputs": [],
   "source": [
    "df = scv.get_df(adata, 'rank_genes_groups/names')\n",
    "df.head(10)"
   ]
  },
  {
   "cell_type": "code",
   "execution_count": null,
   "id": "23fda6aa",
   "metadata": {},
   "outputs": [],
   "source": [
    "scv.pl.velocity(adata, ['HNRNPH1',  'CTNNB1', 'SET', 'YWHAE', 'EIF5A'], color='condition')"
   ]
  },
  {
   "cell_type": "markdown",
   "id": "35a46d51",
   "metadata": {},
   "source": [
    "## Identify important genes\n",
    " \n",
    " + **By Condition**"
   ]
  },
  {
   "cell_type": "code",
   "execution_count": null,
   "id": "987f8b9a",
   "metadata": {},
   "outputs": [],
   "source": [
    "scv.tl.rank_velocity_genes(adata, groupby='condition', min_corr=.3)\n",
    "\n",
    "df = scv.DataFrame(adata.uns['rank_velocity_genes']['names'])\n",
    "df.head(10)"
   ]
  },
  {
   "cell_type": "code",
   "execution_count": null,
   "id": "311a1dfb",
   "metadata": {},
   "outputs": [],
   "source": [
    "for condition in ['IRF3&IFNb&vRNA', 'WT&IFNb&vRNA', 'IRF3&vRNA']:\n",
    "    scv.pl.scatter(adata, df[condition][:5], ylabel=condition, color='condition', wspace=.6)"
   ]
  },
  {
   "cell_type": "markdown",
   "id": "3914c7dd",
   "metadata": {},
   "source": [
    "## Speed and coherence\n",
    "\n",
    "Two more useful stats: - The speed or rate of differentiation is given by the length of the velocity vector. - The coherence of the vector field (i.e., how a velocity vector correlates with its neighboring velocities) provides a measure of confidence."
   ]
  },
  {
   "cell_type": "code",
   "execution_count": null,
   "id": "4cc2b28b",
   "metadata": {},
   "outputs": [],
   "source": [
    "scv.tl.velocity_confidence(adata)\n",
    "keys = 'velocity_length', 'velocity_confidence'\n",
    "scv.pl.scatter(adata, c=keys, cmap='coolwarm', perc=[5, 95])"
   ]
  },
  {
   "cell_type": "code",
   "execution_count": null,
   "id": "f3d2fa39",
   "metadata": {},
   "outputs": [],
   "source": [
    "df = adata.obs.groupby('condition')[keys].mean().T\n",
    "df.style.background_gradient(cmap='coolwarm', axis=1)"
   ]
  },
  {
   "cell_type": "markdown",
   "id": "8101ca9f",
   "metadata": {},
   "source": [
    "## Velocity graph and pseudotime\n",
    "\n",
    "We can visualize the velocity graph to portray all velocity-inferred cell-to-cell connections/transitions. It can be confined to high-probability transitions by setting a threshold. "
   ]
  },
  {
   "cell_type": "code",
   "execution_count": null,
   "id": "20265070",
   "metadata": {},
   "outputs": [],
   "source": [
    "scv.pl.velocity_graph(adata, threshold=.9, color='condition', \n",
    "                          legend_loc='right margin')"
   ]
  },
  {
   "cell_type": "code",
   "execution_count": null,
   "id": "e7377608",
   "metadata": {},
   "outputs": [],
   "source": [
    "#x, y = scv.utils.get_cell_transitions(adata, basis='umap', n_neighbors=10, starting_cell=70)\n",
    "#ax = scv.pl.velocity_graph(adata, c='lightgrey', edge_width=.05, show=False)\n",
    "#ax = scv.pl.scatter(adata, x=x, y=y, s=120, c='ascending', cmap='gnuplot', ax=ax)"
   ]
  },
  {
   "cell_type": "markdown",
   "id": "91f3b223",
   "metadata": {},
   "source": [
    "Finally, based on the velocity graph, a velocity pseudotime can be computed. After inferring a distribution over root cells from the graph, it measures the average number of steps it takes to reach a cell after walking along the graph starting from the root cells."
   ]
  },
  {
   "cell_type": "code",
   "execution_count": null,
   "id": "bdac2da6",
   "metadata": {},
   "outputs": [],
   "source": [
    "scv.tl.velocity_pseudotime(adata)\n",
    "scv.pl.scatter(adata, color='velocity_pseudotime', cmap='gnuplot')"
   ]
  },
  {
   "cell_type": "markdown",
   "id": "34f8b36e",
   "metadata": {},
   "source": [
    "## PAGA velocity graph\n",
    "\n",
    "PAGA graph abstraction has benchmarked as top-performing method for trajectory inference. It provides a graph-like map of the data topology with weighted edges corresponding to the connectivity between two clusters. Here, PAGA is extended by velocity-inferred directionality."
   ]
  },
  {
   "cell_type": "code",
   "execution_count": null,
   "id": "3c6e6b2d",
   "metadata": {},
   "outputs": [],
   "source": [
    "adata"
   ]
  },
  {
   "cell_type": "code",
   "execution_count": null,
   "id": "e0826bdb",
   "metadata": {},
   "outputs": [],
   "source": [
    "# PAGA requires to install igraph, if not done yet.\n",
    "!pip install python-igraph --upgrade --quiet"
   ]
  },
  {
   "cell_type": "code",
   "execution_count": null,
   "id": "30ae199f",
   "metadata": {},
   "outputs": [],
   "source": [
    "# this is needed due to a current bug - bugfix is coming soon.\n",
    "adata.uns['neighbors']['distances'] = adata.obsp['distances']\n",
    "adata.uns['neighbors']['connectivities'] = adata.obsp['connectivities']\n",
    "\n",
    "scv.tl.paga(adata, groups='condition', use_time_prior=False)\n",
    "df = scv.get_df(adata, 'paga/transitions_confidence', precision=2).T\n",
    "df.style.background_gradient(cmap='Blues').format('{:.2g}')"
   ]
  },
  {
   "cell_type": "markdown",
   "id": "c1046d6b",
   "metadata": {},
   "source": [
    "This reads from left/row to right/column, thus e.g. assigning a confident transition from Merkel sells to Basophils.\n",
    "\n",
    "This table can be summarized by a directed graph superimposed onto the UMAP embedding."
   ]
  },
  {
   "cell_type": "code",
   "execution_count": null,
   "id": "31cc52e9",
   "metadata": {},
   "outputs": [],
   "source": [
    "scv.pl.paga(adata, basis='umap', size=50, alpha=.2, \n",
    "            min_edge_width=2, node_size_scale=1)"
   ]
  },
  {
   "cell_type": "code",
   "execution_count": null,
   "id": "21015be6",
   "metadata": {},
   "outputs": [],
   "source": [
    "scv.pl.velocity_embedding_stream(adata, basis='umap', color='condition', \n",
    "                                 legend_loc='right margin', ncols=1)"
   ]
  },
  {
   "cell_type": "markdown",
   "id": "18958155",
   "metadata": {},
   "source": [
    "Here we observb **2** main velocity direction, one in **Gamma delta T cells and Monocytes**. "
   ]
  },
  {
   "cell_type": "code",
   "execution_count": null,
   "id": "27ba0b74",
   "metadata": {},
   "outputs": [],
   "source": [
    "results_file = '/home/aruna/Desktop/Analysis/Project1/Data/Project1&DynVelo.h5ad'  \n",
    "adata.write(results_file)"
   ]
  },
  {
   "cell_type": "markdown",
   "id": "8a3238ad",
   "metadata": {},
   "source": [
    "## Some more analysis for dynamical mode"
   ]
  },
  {
   "cell_type": "markdown",
   "id": "55ef9856",
   "metadata": {},
   "source": [
    "### Kinetic rate paramters\n",
    "\n",
    "The rates of RNA transcription, splicing and degradation are estimated without the need of any experimental data.\n",
    "\n",
    "They can be useful to better understand the cell identity and phenotypic heterogeneity."
   ]
  },
  {
   "cell_type": "code",
   "execution_count": null,
   "id": "5cc4e1fd",
   "metadata": {},
   "outputs": [],
   "source": [
    "df = adata.var\n",
    "df = df[(df['fit_likelihood'] > .1) & df['velocity_genes'] == True]\n",
    "\n",
    "kwargs = dict(xscale='log', fontsize=16)\n",
    "with scv.GridSpec(ncols=3) as pl:\n",
    "    pl.hist(df['fit_alpha'], xlabel='transcription rate', **kwargs)\n",
    "    pl.hist(df['fit_beta'] * df['fit_scaling'], xlabel='splicing rate', xticks=[.1, .4, 1], **kwargs)\n",
    "    pl.hist(df['fit_gamma'], xlabel='degradation rate', xticks=[.1, .4, 1], **kwargs)\n",
    "\n",
    "scv.get_df(adata, 'fit*', dropna=True).head()"
   ]
  },
  {
   "cell_type": "markdown",
   "id": "c0b6df1a",
   "metadata": {},
   "source": [
    "The estimated gene-specific parameters comprise rates of transription (fit_alpha), splicing (fit_beta), degradation (fit_gamma), switching time point (fit_t_), a scaling parameter to adjust for under-represented unspliced reads (fit_scaling), standard deviation of unspliced and spliced reads (fit_std_u, fit_std_s), the gene likelihood (fit_likelihood), inferred steady-state levels (fit_steady_u, fit_steady_s) with their corresponding p-values (fit_pval_steady_u, fit_pval_steady_s), the overall model variance (fit_variance), and a scaling factor to align the gene-wise latent times to a universal, gene-shared latent time (fit_alignment_scaling).\n",
    "\n"
   ]
  },
  {
   "cell_type": "markdown",
   "id": "d39a659d",
   "metadata": {},
   "source": [
    "### Latent time\n",
    "\n",
    "The dynamical model recovers the latent time of the underlying cellular processes. This latent time represents the cell’s internal clock and approximates the real time experienced by cells as they differentiate, based only on its transcriptional dynamics."
   ]
  },
  {
   "cell_type": "code",
   "execution_count": null,
   "id": "ada0e35f",
   "metadata": {},
   "outputs": [],
   "source": [
    "scv.tl.latent_time(adata)\n",
    "scv.pl.scatter(adata, color='latent_time', color_map='gnuplot', size=80)"
   ]
  },
  {
   "cell_type": "code",
   "execution_count": null,
   "id": "67dead5d",
   "metadata": {},
   "outputs": [],
   "source": [
    "top_genes = adata.var['fit_likelihood'].sort_values(ascending=False).index[:300]\n",
    "scv.pl.heatmap(adata, var_names=top_genes, sortby='latent_time', col_color='condition', n_convolve=100)"
   ]
  },
  {
   "cell_type": "markdown",
   "id": "8e7ca40f",
   "metadata": {},
   "source": [
    "### Top-likelihood genes\n",
    "\n",
    "Driver genes display pronounced dynamic behavior and are systematically detected via their characterization by high likelihoods in the dynamic model."
   ]
  },
  {
   "cell_type": "code",
   "execution_count": null,
   "id": "7319f1d6",
   "metadata": {},
   "outputs": [],
   "source": [
    "top_genes = adata.var['fit_likelihood'].sort_values(ascending=False).index\n",
    "scv.pl.scatter(adata, basis=top_genes[:15], ncols=5, frameon=False, color='condition')"
   ]
  },
  {
   "cell_type": "markdown",
   "id": "b1969d52",
   "metadata": {},
   "source": [
    "### Cluster-specific top-likelihood genes\n",
    "\n",
    "Moreover, partial gene likelihoods can be computed for a each cluster of cells to enable cluster-specific identification of potential drivers."
   ]
  },
  {
   "cell_type": "code",
   "execution_count": null,
   "id": "293f1f6d",
   "metadata": {},
   "outputs": [],
   "source": [
    "scv.tl.rank_dynamical_genes(adata, groupby='condition')\n",
    "df = scv.get_df(adata, 'rank_dynamical_genes/names')\n",
    "df.head(10)"
   ]
  },
  {
   "cell_type": "code",
   "execution_count": null,
   "id": "4cff2ca5",
   "metadata": {},
   "outputs": [],
   "source": [
    "for condition in ['IRF3&IFNb&vRNA', 'WT&IFNb&vRNA', 'IRF3&vRNA', 'WT', 'IRF3', 'IRF3&IFNb']:\n",
    "    scv.pl.scatter(adata, df[condition][:5], ylabel=condition, color='condition', wspace=.6)"
   ]
  },
  {
   "cell_type": "code",
   "execution_count": null,
   "id": "655c8be3",
   "metadata": {},
   "outputs": [],
   "source": []
  },
  {
   "cell_type": "code",
   "execution_count": null,
   "id": "d87ebe30",
   "metadata": {},
   "outputs": [],
   "source": []
  },
  {
   "cell_type": "code",
   "execution_count": null,
   "id": "876c917e",
   "metadata": {},
   "outputs": [],
   "source": []
  }
 ],
 "metadata": {
  "kernelspec": {
   "display_name": "Python 3 (ipykernel)",
   "language": "python",
   "name": "python3"
  },
  "language_info": {
   "codemirror_mode": {
    "name": "ipython",
    "version": 3
   },
   "file_extension": ".py",
   "mimetype": "text/x-python",
   "name": "python",
   "nbconvert_exporter": "python",
   "pygments_lexer": "ipython3",
   "version": "3.11.5"
  }
 },
 "nbformat": 4,
 "nbformat_minor": 5
}
